{
 "cells": [
  {
   "cell_type": "code",
   "execution_count": 18,
   "metadata": {},
   "outputs": [],
   "source": [
    "import pandas as pd\n",
    "import wandb\n",
    "\n",
    "import seaborn as sns\n",
    "import numpy as np\n",
    "import torch\n",
    "\n",
    "import matplotlib.pyplot as plt\n",
    "sns.set_style(\"white\", {\"grid.color\": \".6\", \"grid.linestyle\": \":\"})\n",
    "\n",
    "from scipy.stats import norm, shapiro"
   ]
  },
  {
   "cell_type": "code",
   "execution_count": 19,
   "metadata": {},
   "outputs": [],
   "source": [
    "def plot_hist(x_T_prime):\n",
    "    plt.hist(x_T_prime.flatten(), bins=50, density=True, alpha=0.5, histtype='bar', ec='black')\n",
    "    x = np.arange(-4, 4, 0.01)\n",
    "\n",
    "    plt.plot(\n",
    "        x, norm.pdf(x)\n",
    "    )\n",
    "\n",
    "    return \n",
    "\n",
    "def get_x_T_prime(path, channel=3):\n",
    "    return torch.load(path, map_location=torch.device('cpu'))"
   ]
  },
  {
   "cell_type": "code",
   "execution_count": 20,
   "metadata": {},
   "outputs": [],
   "source": [
    "S_arr = list(np.arange(10, 150, 10))\n",
    "r_arr = list(np.arange(4, 34, 2))\n",
    "\n",
    "root_path = \"./rev_lat_objects\"\n",
    "paths = [f\"{root_path}/s_{s}_r_{r}/rev_lat.pt\" for s in S_arr for r in r_arr]"
   ]
  },
  {
   "cell_type": "code",
   "execution_count": 21,
   "metadata": {},
   "outputs": [],
   "source": [
    "for path in paths:\n",
    "    get_x_T_prime(path)"
   ]
  }
 ],
 "metadata": {
  "kernelspec": {
   "display_name": "plot",
   "language": "python",
   "name": "python3"
  },
  "language_info": {
   "codemirror_mode": {
    "name": "ipython",
    "version": 3
   },
   "file_extension": ".py",
   "mimetype": "text/x-python",
   "name": "python",
   "nbconvert_exporter": "python",
   "pygments_lexer": "ipython3",
   "version": "3.10.13"
  }
 },
 "nbformat": 4,
 "nbformat_minor": 2
}

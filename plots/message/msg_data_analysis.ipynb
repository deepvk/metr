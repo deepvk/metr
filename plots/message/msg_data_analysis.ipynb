{
 "cells": [
  {
   "cell_type": "code",
   "execution_count": 53,
   "metadata": {},
   "outputs": [],
   "source": [
    "import pandas as pd\n",
    "import wandb\n",
    "\n",
    "import seaborn as sns\n",
    "import numpy as np\n",
    "\n",
    "import matplotlib.pyplot as plt\n",
    "sns.set_style(\"darkgrid\", {\"grid.color\": \".6\", \"grid.linestyle\": \":\"})"
   ]
  },
  {
   "cell_type": "code",
   "execution_count": 54,
   "metadata": {},
   "outputs": [],
   "source": [
    "pd.set_option('display.max_rows', 100)"
   ]
  },
  {
   "cell_type": "markdown",
   "metadata": {},
   "source": [
    "---"
   ]
  },
  {
   "cell_type": "code",
   "execution_count": 55,
   "metadata": {},
   "outputs": [],
   "source": [
    "def get_runs_df(project, entity=\"jurujin\"):\n",
    "    api = wandb.Api()\n",
    "    runs = api.runs(entity + \"/\" + project)\n",
    "\n",
    "    summary_list, config_list, name_list = [], [], []\n",
    "    for run in runs:\n",
    "        summary_list.append(run.summary._json_dict)\n",
    "        config_list.append({k: v for k, v in run.config.items() if not k.startswith(\"_\")})\n",
    "        name_list.append(run.name)\n",
    "\n",
    "\n",
    "    summary_df = pd.DataFrame(summary_list)\n",
    "    config_df = pd.DataFrame(config_list)\n",
    "\n",
    "    df = pd.concat([summary_df.reset_index(drop=True), config_df.reset_index(drop=True)], axis=1)\n",
    "    df[\"name\"] = name_list\n",
    "\n",
    "    return df.sort_values(by=[\"w_radius\", \"msg_scaler\"])"
   ]
  },
  {
   "cell_type": "code",
   "execution_count": 56,
   "metadata": {},
   "outputs": [],
   "source": [
    "projects = [\n",
    "    \"msg_grid_srch\",    # V\n",
    "    \"msg_diff_att\",     # V\n",
    "    \"msg_all_attacks\",      # V\n",
    "    \"fid_msg_grid_srch_gen\",    # doing 1 run for r=4 s=60\n",
    "    \"fid_msg_grid_srch_gt\",     # V\n",
    "    \"fid_msg_r_gen\",    # V\n",
    "    \"fid_msg_r_gt\"      # V\n",
    "]\n",
    "\n",
    "detection_projects = [\n",
    "    \"msg_grid_srch\",    # V\n",
    "    \"msg_diff_att\",     # V\n",
    "    \"msg_all_attacks\"\n",
    "]\n",
    "\n",
    "fid_projects = [\n",
    "    \"fid_msg_grid_srch_gen\",    # doing 1 run for r=4 s=60\n",
    "    \"fid_msg_grid_srch_gt\",     # V\n",
    "    \"fid_msg_r_gen\",\n",
    "    \"fid_msg_r_gt\"\n",
    "]\n",
    "\n",
    "detection_cols = [\n",
    "    \"TPR@1%FPR\", \"acc\", \"auc\",\n",
    "    \"w_clip_score_mean\",\n",
    "    \"w_det_dist_mean\",\n",
    "    \"no_w_det_dist_mean\",\n",
    "    \"w_det_dist_std\",\n",
    "    \"no_w_det_dist_std\",\n",
    "    \"Bit_acc\", \"Word_acc\",\n",
    "    \"msg\", \"w_radius\", \"msg_scaler\",\n",
    "\n",
    "    \"jpeg_ratio\", \"crop_scale\", \"crop_ratio\", \"gaussian_blur_r\", \"gaussian_std\", \"brightness_factor\", \"r_degree\"\n",
    "]\n",
    "\n",
    "fid_cols = [\n",
    "    \"psnr_w\", \"ssim_w\",\n",
    "    \"psnr_no_w\", \"ssim_no_w\",\n",
    "    \"fid_w\", \"fid_no_w\",\n",
    "    \"msg\", \"w_radius\", \"msg_scaler\",\n",
    "\n",
    "]"
   ]
  },
  {
   "cell_type": "code",
   "execution_count": 57,
   "metadata": {},
   "outputs": [],
   "source": [
    "for project in detection_projects:\n",
    "    get_runs_df(project).to_csv(f\"./detection/{project}.csv\", index=False, columns=detection_cols)\n",
    "\n",
    "for project in fid_projects:\n",
    "    get_runs_df(project).to_csv(f\"./fid/{project}.csv\", index=False, columns=fid_cols)"
   ]
  }
 ],
 "metadata": {
  "kernelspec": {
   "display_name": "project_env",
   "language": "python",
   "name": "python3"
  },
  "language_info": {
   "codemirror_mode": {
    "name": "ipython",
    "version": 3
   },
   "file_extension": ".py",
   "mimetype": "text/x-python",
   "name": "python",
   "nbconvert_exporter": "python",
   "pygments_lexer": "ipython3",
   "version": "3.10.13"
  }
 },
 "nbformat": 4,
 "nbformat_minor": 2
}
